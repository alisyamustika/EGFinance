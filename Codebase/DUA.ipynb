{
 "cells": [
  {
   "cell_type": "code",
   "execution_count": null,
   "id": "bc57a16c",
   "metadata": {},
   "outputs": [],
   "source": [
    "import pandas as pd\n",
    "import numpy as np\n",
    "import matplotlib.pyplot as plt\n",
    "import seaborn as sns\n",
    "import os\n",
    "import plotly.express as px\n",
    "import plotly.graph_objects as go\n",
    "import plotly.figure_factory as ff\n",
    "import matplotlib.ticker as mticker\n",
    "import matplotlib.dates as mdates\n",
    "\n",
    "from openpyxl import Workbook\n",
    "from openpyxl.utils.dataframe import dataframe_to_rows\n",
    "\n",
    "from ema_workbench import *\n",
    "from ema_workbench import analysis\n",
    "from ema_workbench import RealParameter, TimeSeriesOutcome, ScalarOutcome, ema_logging, perform_experiments, save_results\n",
    "\n",
    "from ema_workbench.connectors.excel import ExcelModel\n",
    "\n",
    "from ema_workbench.analysis.plotting_util import *\n",
    "from ema_workbench.analysis.plotting import *\n",
    "from ema_workbench.analysis import pairs_plotting\n",
    "from ema_workbench.analysis import feature_scoring\n",
    "import ema_workbench.analysis.prim as prim\n",
    "from ema_workbench.analysis import regional_sa\n",
    "from ema_workbench.analysis import RuleInductionType\n",
    "\n",
    "analysis.plotting_util.COLOR_LIST= [ \n",
    "    \"#1c33ff\",\"#ff1930\", \"#ffb01c\", \"#7519ff\", \"#ff6f1c\", \"#a3ff19\", \"#19ffe8\",\n",
    "      \"#e819ff\", \"#a5a7dd\", \"#565a8c\", \n",
    "    \"#930700\",  \"#2ade72\"\n",
    "]\n",
    "\n",
    "##TO-DO: If e-boiler == yes, then e-boiler metrics == on \n",
    "class BuCa:\n",
    "    def __init__(self, model_file, model_cases, model_start, model_length):\n",
    "        self.model_file = model_file\n",
    "        self.model_cases = model_cases\n",
    "        self.model_start = model_start\n",
    "        self.model_length = model_length\n",
    "        self.df_timeseries = None\n",
    "        self.df = None\n",
    "        self.x = None\n",
    "        self.o = None\n",
    "\n",
    "        self.run_model()\n",
    "        self.store_results()\n",
    "        self.plot_pbp() \n",
    "        self.plot_npv()\n",
    "        self.plot_irr()\n",
    "        self.plot_ebitda()\n",
    "        self.output_results()\n",
    "\n",
    "    def run_model(self):\n",
    "        # Get the current working directory\n",
    "        current_directory = os.getcwd()\n",
    "\n",
    "        # Navigate to the parent directory\n",
    "        parent_directory = os.path.dirname(current_directory)\n",
    "\n",
    "        if __name__ == \"__main__\":\n",
    "            ema_logging.log_to_stderr(level=ema_logging.INFO)\n",
    "\n",
    "            model = ExcelModel(\"BuCa\", wd=parent_directory, model_file=self.model_file)\n",
    "            \n",
    "            model.levers = [\n",
    "            CategoricalParameter(\"Case\", (self.model_cases)),    \t\t\t\t\t\t\n",
    "            ]\n",
    "            \n",
    "            model.outcomes = [\n",
    "                # Standard Metrics\n",
    "                TimeSeriesOutcome(\"TIME\"),\n",
    "                TimeSeriesOutcome(\"Model_length\"),\n",
    "                ScalarOutcome(\"MODELCHECK\"),\n",
    "                \n",
    "                \n",
    "                # Debt Metrics\n",
    "                #TimeSeriesOutcome(\"DSCR_Tenor\"),\n",
    "                # ScalarOutcome(\"DSCR_First5Years_Min\"),\n",
    "                # ScalarOutcome(\"ADSCR_First5Years\"),\n",
    "                #ScalarOutcome(\"ADSCR_Tenor\"),\n",
    "                #ScalarOutcome(\"LLCR\"),\n",
    "                #ScalarOutcome(\"LLCR_Min\"),\n",
    "\n",
    "                #EBITDA_Breakdown\n",
    "                ScalarOutcome(\"Merchant_revenue\"),\n",
    "                ScalarOutcome(\"Subsidy\"),\n",
    "                ScalarOutcome(\"Grid_costs\"),\n",
    "                ScalarOutcome(\"Energy_tax\"),\n",
    "                ScalarOutcome(\"Gas_tax\"),\n",
    "                ScalarOutcome(\"EBITDA_Total\"),\n",
    "\n",
    "\n",
    "                # IRR Metrics\n",
    "                TimeSeriesOutcome(\"Rolling_Equity_IRR\"),\n",
    "                #TimeSeriesOutcome(\"Rolling_ProjectIRR_AfterTax\"),\n",
    "                #TimeSeriesOutcome(\"Rolling_ProjectIRR_BeforeTax\"),\n",
    "                ScalarOutcome(\"Project_IRR_AfterTax\"),\n",
    "                ScalarOutcome(\"Project_IRR_BeforeTax\"),\n",
    "                ScalarOutcome(\"Equity_IRR\"),\n",
    "                ScalarOutcome(\"WACC\"),\n",
    "\n",
    "                # NPV Metrics\n",
    "                ScalarOutcome(\"Equity_NPV\"),\n",
    "\n",
    "                #E-boiler Metrics\n",
    "                ScalarOutcome(\"CAPEX\"),\n",
    "                TimeSeriesOutcome(\"Cumulative_cash_flow\"),\n",
    "                ScalarOutcome(\"Payback_period\"),\n",
    "\n",
    "                # Operational Metrics\n",
    "                # TimeSeriesOutcome(\"EBITDA\"),\n",
    "            ]  \n",
    "\n",
    "            # name of the sheet\n",
    "            model.default_sheet = \"General Inputs\"\n",
    "\n",
    "            results = perform_experiments(model, 0, policies=len(self.model_cases), reporting_interval=None)\n",
    "            x,o = results\n",
    "\n",
    "            # Automate reshaping of time series outcomes\n",
    "            for outcome_name, outcome_value in o.items():\n",
    "                if isinstance(outcome_value, np.ndarray) and outcome_value.ndim == 3:\n",
    "                    # Assuming the first dimension is the number of scenarios\n",
    "                    num_scenarios = outcome_value.shape[0]\n",
    "                    num_timesteps = np.prod(outcome_value.shape[1:])\n",
    "                    o[outcome_name] = outcome_value.reshape((num_scenarios, num_timesteps))\n",
    "                    \n",
    "                    # Print dimensions for verification\n",
    "                    print(f\"Reshaped {outcome_name} to {o[outcome_name].shape}\")\n",
    "\n",
    "            # Print final reshaped dimensions for verification\n",
    "            for outcome_name, outcome_value in o.items():\n",
    "                print(f\"Final dimensions of {outcome_name}: {outcome_value.shape}\")\n",
    "\n",
    "            self.x = x\n",
    "            self.o = o\n",
    "\n",
    "    def store_results(self):\n",
    "        cumulative_cash_flows = self.o['Cumulative_cash_flow']\n",
    "\n",
    "        # Create a DataFrame from the time series data\n",
    "        df_timeseries = pd.DataFrame(cumulative_cash_flows).T\n",
    "\n",
    "        df_timeseries.columns = self.x['Case'].astype(str)\n",
    "\n",
    "        # Convert to datetime and remove timezone\n",
    "        df_timeseries['datetime'] = pd.date_range(start=self.model_start, periods=self.model_length, freq='MS')\n",
    "\n",
    "        # Define the desired order of categories\n",
    "        desired_order = list(self.model_cases)\n",
    "\n",
    "        # Ensure the columns of df_timeseries match the desired order\n",
    "        df_timeseries = df_timeseries[['datetime'] + desired_order]\n",
    "\n",
    "        self.df_timeseries = df_timeseries\n",
    "\n",
    "        ##----------------------------------------------------------------\n",
    "\n",
    "        scalar_outcomes = [key for key, value in self.o.items() if value.shape[1:] == ()]\n",
    "\n",
    "        df = pd.DataFrame({key: self.o[key] for key in scalar_outcomes})\n",
    "        df[\"Case\"] = self.x['Case'].astype(str)\n",
    "\n",
    "        # Define the desired order of categories\n",
    "        desired_order = list(self.model_cases)\n",
    "\n",
    "        # Reorder the Case column\n",
    "        df['Case'] = pd.Categorical(df['Case'], categories=desired_order, ordered=True)\n",
    "\n",
    "        # Sort the DataFrame by the new order (optional, for consistent plotting)\n",
    "        df = df.sort_values('Case')\n",
    "\n",
    "        self.df = df\n",
    "\n",
    "    def plot_pbp(self):\n",
    "        fig, ax = plt.subplots(figsize=(12, 6))\n",
    "\n",
    "        # Plot each column in df_timeseries (excluding 'datetime')\n",
    "        for column in self.df_timeseries.columns:\n",
    "            if column != 'datetime':\n",
    "                ax.plot(self.df_timeseries['datetime'][11:-1], self.df_timeseries[column][11:-1], label=column)\n",
    "\n",
    "        # Plot CAPEX as a horizontal line\n",
    "        capex_value = self.o[\"CAPEX\"][0]  # Assuming CAPEX is a single number\n",
    "        ax.axhline(y=capex_value, label='_nolegend_', color='black', linestyle='--', linewidth=2)\n",
    "\n",
    "        # Add a label for the CAPEX line above the line on the right edge\n",
    "        ax.text(\n",
    "            self.df_timeseries['datetime'].iloc[-30],  # x-coordinate (right edge of the plot)\n",
    "            capex_value+500000,                        # y-coordinate (CAPEX value)\n",
    "            f'CAPEX = €{capex_value:,.0f}',    # Label text\n",
    "            color='black',                      # Text color\n",
    "            fontsize=10,                        # Font size\n",
    "            ha='left',                          # Horizontal alignment\n",
    "            va='bottom'                         # Vertical alignment\n",
    "        )\n",
    "\n",
    "        # Add labels, title, and legend\n",
    "        ax.set_ylabel('Cumulative Cash Flows', fontsize=12)\n",
    "        ax.legend(fontsize=10)\n",
    "\n",
    "        # Format y-axis with thousands comma separator and euro sign\n",
    "        ax.yaxis.set_major_formatter(mticker.FuncFormatter(lambda x, _: f'€ {x:,.0f}'))\n",
    "\n",
    "        # Format x-axis to show every year\n",
    "        ax.xaxis.set_major_locator(mdates.YearLocator())  # Set major ticks to yearly intervals\n",
    "        ax.xaxis.set_major_formatter(mdates.DateFormatter('%Y'))  # Format ticks to display the year\n",
    "\n",
    "        # Rotate x-axis labels for better readability\n",
    "        plt.xticks(rotation=0, ha='center', fontsize=10)\n",
    "        plt.xlim(self.df_timeseries['datetime'][11], self.df_timeseries['datetime'].iloc[-1])  # Set x-axis limits\n",
    "\n",
    "        # Add gridlines\n",
    "        ax.grid(axis='y', linestyle='--', alpha=0.7)\n",
    "\n",
    "        # Adjust layout for better spacing\n",
    "        plt.tight_layout()\n",
    "\n",
    "        # Show the plot\n",
    "        plt.show()\n",
    "\n",
    "    def plot_npv(self):\n",
    "        # Create the figure and axis\n",
    "        num_cases = len(self.df)\n",
    "        fig_width = max(10, num_cases * 2.5)  # Set a minimum width of 10 and scale with the number of cases\n",
    "\n",
    "        # Create the figure and axis\n",
    "        fig, ax = plt.subplots(figsize=(fig_width, 6))\n",
    "\n",
    "        # Create a bar chart with thinner bars and updated color\n",
    "        bars = plt.bar(self.df['Case'], self.df['Equity_NPV'], color='#1c33ff', width=0.4)\n",
    "\n",
    "        # Rotate x-axis labels for better readability\n",
    "        plt.xticks(rotation=0, ha='center', fontsize=10)\n",
    "\n",
    "        # Format y-axis with a comma separator for thousands\n",
    "        plt.gca().yaxis.set_major_formatter(mticker.FuncFormatter(lambda x, _: f'€ {x:,.0f}'))\n",
    "\n",
    "        # Add gridlines for y-axis\n",
    "        plt.grid(axis='y', linestyle='--', alpha=0.7)\n",
    "\n",
    "        # Redraw the bars to ensure they appear on top of the grid\n",
    "        for bar in bars:\n",
    "            bar.set_zorder(3)\n",
    "\n",
    "        # Adjust layout for better spacing\n",
    "        plt.tight_layout()\n",
    "\n",
    "        # Show the plot\n",
    "        plt.show()\n",
    "\n",
    "    def plot_irr(self):\n",
    "        df = self.df\n",
    "        # Assuming 'df' contains the columns 'Case', 'Project_IRR_BeforeTax', 'Project_IRR_AfterTax', 'Equity_IRR', and 'WACC'\n",
    "        categories = df['Case']\n",
    "        values_before_tax = df['Project_IRR_BeforeTax'] * 10  # Multiply by 10\n",
    "        values_after_tax = df['Project_IRR_AfterTax'] * 10    # Multiply by 10\n",
    "        values_equity_irr = df['Equity_IRR'] * 10             # Multiply by 10\n",
    "        values_wacc = df['WACC'] * 10                         # Multiply by 10\n",
    "\n",
    "        # Define the positions for the bars\n",
    "        a = np.arange(len(categories))  # the label locations\n",
    "        width = 0.25  # the width of the bars\n",
    "\n",
    "        # Create the figure and axis\n",
    "        num_cases = len(df)\n",
    "        fig_width = max(10, num_cases * 2.5)  # Set a minimum width of 10 and scale with the number of cases\n",
    "\n",
    "        # Create the figure and axis\n",
    "        fig, ax = plt.subplots(figsize=(fig_width, 6))\n",
    "\n",
    "        # Plot each group of bars\n",
    "        bars1 = ax.bar(a - width, values_before_tax, width, label='Project IRR Before Tax', color='#1c33ff', zorder=2)\n",
    "        bars2 = ax.bar(a, values_after_tax, width, label='Project IRR After Tax', color='#ff571c', zorder=2)\n",
    "        bars3 = ax.bar(a + width, values_equity_irr, width, label='Equity IRR', color='green', zorder=2)\n",
    "\n",
    "        # Plot WACC as a dashed black line without markers\n",
    "        ax.plot(a, values_wacc, label='WACC', color='black', linestyle='--', linewidth=2, zorder=3)\n",
    "\n",
    "        # Add labels, title, and legend\n",
    "        ax.set_xticks(a)\n",
    "        ax.set_xticklabels(categories, rotation=0, ha='center', fontsize=10)\n",
    "        ax.legend(fontsize=9)\n",
    "\n",
    "        plt.gca().yaxis.set_major_formatter(mticker.FuncFormatter(lambda a, _: f'{a:,.0f}%'))\n",
    "\n",
    "        # Add gridlines for y-axis and ensure they are in the background\n",
    "        ax.grid(axis='y', linestyle='--', alpha=0.7, zorder=1)\n",
    "\n",
    "        # Adjust layout for better spacing\n",
    "        plt.tight_layout()\n",
    "\n",
    "        # Show the plot\n",
    "        plt.show()\n",
    "\n",
    "    def plot_ebitda(self):\n",
    "        # Define the parameters to include in the stacked bar chart\n",
    "        parameters = ['Merchant_revenue', 'Subsidy', 'Grid_costs', 'Energy_tax', 'Gas_tax']\n",
    "\n",
    "        # Filter the DataFrame to include only the cases and the specified parameters\n",
    "        df_filtered = self.df[['Case'] + parameters + ['EBITDA_Total']]\n",
    "\n",
    "        # Set the 'Case' column as the index for easier plotting\n",
    "        df_filtered.set_index('Case', inplace=True)\n",
    "\n",
    "        # Dynamically set the figure width based on the number of cases\n",
    "        num_cases = len(df_filtered)\n",
    "        fig_width = max(10, num_cases * 2.5)  # Set a minimum width of 10 and scale with the number of cases\n",
    "\n",
    "        # Create the figure and axis\n",
    "        fig, ax = plt.subplots(figsize=(fig_width, 6))  # Height is fixed, width is dynamic\n",
    "\n",
    "        # Plot the stacked bar chart with thinner bars\n",
    "        df_filtered[parameters].plot(kind='bar', stacked=True, ax=ax, colormap='tab10', zorder=2, width=0.4)\n",
    "\n",
    "        # Add a line graph for EBITDA_Total\n",
    "        ax.plot(df_filtered.index, df_filtered['EBITDA_Total'], color='black', linestyle='--', label='EBITDA', zorder=3)\n",
    "\n",
    "        # Add data labels for the EBITDA_Total line\n",
    "        for i, value in enumerate(df_filtered['EBITDA_Total']):\n",
    "            ax.text(\n",
    "                i, value + 0.05 * max(df_filtered['EBITDA_Total']),  # Slightly above the line\n",
    "                f'€ {value:,.0f}',  # Format as currency\n",
    "                ha='center', va='bottom', fontsize=10, fontweight='bold', color='black'\n",
    "            )\n",
    "\n",
    "        # Add gridlines and highlight the gridline at 0\n",
    "        ax.grid(axis='y', linestyle='-', alpha=0.7, zorder=1)  # Regular gridlines\n",
    "        ax.axhline(0, color='black', linewidth=0.8, linestyle='-', zorder=1)  # Highlighted gridline at 0\n",
    "\n",
    "        # Remove x-axis title\n",
    "        ax.set_xlabel('')  # Removes the x-axis title\n",
    "\n",
    "        # Move the legend to the bottom in a straight line\n",
    "        ax.legend(fontsize=10, loc='upper center', bbox_to_anchor=(0.5, -0.05), ncol=6)\n",
    "\n",
    "        # Format y-axis with thousands comma separator and euro sign\n",
    "        ax.yaxis.set_major_formatter(mticker.FuncFormatter(lambda x, _: f'€ {x:,.0f}'))\n",
    "\n",
    "        # Rotate x-axis labels for better readability\n",
    "        plt.xticks(rotation=0, ha='center', fontsize=10)\n",
    "\n",
    "        # Adjust layout for better spacing\n",
    "        plt.tight_layout()\n",
    "\n",
    "        # Show the plot\n",
    "        plt.show()\n",
    "        \n",
    "\n",
    "    def output_results(self):\n",
    "        # Create a new Excel workbook\n",
    "        wb = Workbook()\n",
    "\n",
    "        # Add df to the first sheet\n",
    "        sheet1 = wb.active\n",
    "        sheet1.title = \"df\"\n",
    "        for row in dataframe_to_rows(self.df, index=True, header=True):\n",
    "            sheet1.append(row)\n",
    "\n",
    "        # Add df_timeseries to a new sheet\n",
    "        sheet2 = wb.create_sheet(title=\"df_timeseries\")\n",
    "        for row in dataframe_to_rows(self.df_timeseries, index=True, header=True):\n",
    "            sheet2.append(row)\n",
    "\n",
    "        # Save the workbook\n",
    "        wb.save(\"output.xlsx\")"
   ]
  },
  {
   "cell_type": "code",
   "execution_count": null,
   "id": "4910608b",
   "metadata": {},
   "outputs": [],
   "source": [
    "class DUA:\n",
    "    def __init__(self, model_file, model_cases, model_uncertainties, n_simulations):\n",
    "        self.model_file = model_file\n",
    "        self.model_cases = model_cases\n",
    "        self.model_uncertainties = model_uncertainties\n",
    "        self.n_simulations = n_simulations\n",
    "\n",
    "        self.o = None\n",
    "        self.x = None\n",
    "\n",
    "        self.run_model()\n",
    "        self.plot_rolling_irr()\n",
    "        self.plot_irr_boxplot()\n",
    "        self.plot_npv_boxplot()\n",
    "        self.prim()\n",
    "        self.feature_importance()\n",
    "\n",
    "    def run_model(self):\n",
    "        # Get the current working directory\n",
    "        current_directory = os.getcwd()\n",
    "\n",
    "        # Navigate to the parent directory\n",
    "        parent_directory = os.path.dirname(current_directory)\n",
    "\n",
    "        if __name__ == \"__main__\":\n",
    "            ema_logging.log_to_stderr(level=ema_logging.INFO)\n",
    "\n",
    "            model = ExcelModel(\"Model\", wd=parent_directory, model_file=\"250130 - Multi-Asset Financial Model Version 1.12B Kisuma (2024) - DUA.xlsx\")\n",
    "            model.uncertainties = self.model_uncertainties\n",
    "            \n",
    "            model.levers = [\n",
    "            CategoricalParameter(\"Case\", (self.model_cases)),    \t\t\t\t\t\t\n",
    "            ]\n",
    "            \n",
    "            model.outcomes = [\n",
    "                # Standard Metrics\n",
    "                TimeSeriesOutcome(\"TIME\"),\n",
    "                ScalarOutcome(\"MODELCHECK\"),\n",
    "                \n",
    "                # Debt Metrics\n",
    "                #TimeSeriesOutcome(\"DSCR_Tenor\"),\n",
    "                # ScalarOutcome(\"DSCR_First5Years_Min\"),\n",
    "                # ScalarOutcome(\"ADSCR_First5Years\"),\n",
    "                #ScalarOutcome(\"ADSCR_Tenor\"),\n",
    "                #ScalarOutcome(\"LLCR\"),\n",
    "                #ScalarOutcome(\"LLCR_Min\"),\n",
    "\n",
    "                # IRR Metrics\n",
    "                TimeSeriesOutcome(\"Rolling_Equity_IRR\"),\n",
    "                #TimeSeriesOutcome(\"Rolling_ProjectIRR_AfterTax\"),\n",
    "                #TimeSeriesOutcome(\"Rolling_ProjectIRR_BeforeTax\"),\n",
    "                #ScalarOutcome(\"Project_IRR_AfterTax\"),\n",
    "                # ScalarOutcome(\"Project_IRR_BeforeTax\"),\n",
    "                ScalarOutcome(\"Equity_IRR\"),\n",
    "\n",
    "                # NPV Metrics\n",
    "                ScalarOutcome(\"Equity_NPV\"),\n",
    "\n",
    "                # Operational Metrics\n",
    "                # TimeSeriesOutcome(\"EBITDA\"),\n",
    "                # ScalarOutcome(\"EBITDA_Total\"),\n",
    "            ]  \n",
    "\n",
    "            # name of the sheet\n",
    "            model.default_sheet = \"General Inputs\"\n",
    "\n",
    "            results = perform_experiments(model, self.n_simulations, policies=len(self.model_cases), reporting_interval=None)\n",
    "            x,o = results\n",
    "\n",
    "            # Automate reshaping of time series outcomes\n",
    "            for outcome_name, outcome_value in o.items():\n",
    "                if isinstance(outcome_value, np.ndarray) and outcome_value.ndim == 3:\n",
    "                    # Assuming the first dimension is the number of scenarios\n",
    "                    num_scenarios = outcome_value.shape[0]\n",
    "                    num_timesteps = np.prod(outcome_value.shape[1:])\n",
    "                    o[outcome_name] = outcome_value.reshape((num_scenarios, num_timesteps))\n",
    "                    \n",
    "                    # Print dimensions for verification\n",
    "                    print(f\"Reshaped {outcome_name} to {o[outcome_name].shape}\")\n",
    "\n",
    "            # Print final reshaped dimensions for verification\n",
    "            for outcome_name, outcome_value in o.items():\n",
    "                print(f\"Final dimensions of {outcome_name}: {outcome_value.shape}\")\n",
    "\n",
    "            self.x = x\n",
    "            self.o = o\n",
    "\n",
    "    def plot_rolling_irr(self):\n",
    "        x = self.x\n",
    "        o = self.o\n",
    "\n",
    "        fig, axes = lines(x, o, legend=True, group_by='Case', outcomes_to_show='Rolling_Equity_IRR', density=Density.KDE)\n",
    "\n",
    "        # Set figure size\n",
    "        fig.set_size_inches(14, 7)\n",
    "\n",
    "        # Get axes\n",
    "        ax = fig.get_axes()\n",
    "\n",
    "        # Set style to seaborn whitegrid for a clean look\n",
    "        sns.set_style('whitegrid')\n",
    "\n",
    "        # Update line properties\n",
    "        for axis in ax:\n",
    "            for line in axis.get_lines():\n",
    "                line.set_alpha(0.5)  # Slightly less transparent than before\n",
    "                line.set_linewidth(1)  # Increase line width for better visibility\n",
    "            axis.margins(y=0)\n",
    "\n",
    "        # Clean up spines and grid lines\n",
    "        for axis in ax:\n",
    "            axis.spines['top'].set_visible(False)\n",
    "            axis.spines['right'].set_visible(False)\n",
    "            axis.spines['left'].set_linewidth(0.5)\n",
    "            axis.spines['bottom'].set_linewidth(0.5)\n",
    "            axis.xaxis.set_tick_params(width=0.5)\n",
    "            axis.yaxis.set_tick_params(width=0.5)\n",
    "            axis.grid(True, which='both', linestyle='--', linewidth=0.5, alpha=0.5)  # Light dashed grid lines\n",
    "\n",
    "        # Set titles and labels with larger font size\n",
    "\n",
    "            ax[0].set_title('Rolling Equity IRR', fontsize=16, pad=20)\n",
    "            ax[1].set_title('Density', fontsize=16, pad=20)\n",
    "            ax[0].set_xlabel('Time (months)', fontsize=14, labelpad=10)\n",
    "            ax[0].set_ylabel('IRR [Decimal]', fontsize=14, labelpad=10)\n",
    "\n",
    "        # Add and style legend\n",
    "        for axis in ax:\n",
    "            legend = axis.get_legend()\n",
    "            if legend:\n",
    "                legend.set_frame_on(False)  # Remove legend frame\n",
    "                legend.get_frame().set_alpha(0.2)  # Slight transparency\n",
    "\n",
    "        # Remove top and right spines, clean the look\n",
    "        sns.despine()\n",
    "\n",
    "        plt.show()\n",
    "\n",
    "    def plot_irr_boxplot(self, width=800, height=600):\n",
    "        o = self.o\n",
    "        case_series = self.x['Case']\n",
    "        x_axis_order = list(self.model_cases)\n",
    "\n",
    "        # Extract NPV values\n",
    "        npv_values = np.array(o['Equity_IRR']).astype(float)\n",
    "        \n",
    "        # Ensure the lengths match\n",
    "        if len(npv_values) != len(case_series):\n",
    "            raise ValueError(\"Mismatch between the number of values and cases.\")\n",
    "        \n",
    "        # Create a DataFrame\n",
    "        data = pd.DataFrame({\n",
    "            'IRR [Decimal]': npv_values,\n",
    "            'Scenario': case_series\n",
    "        })\n",
    "\n",
    "        # Apply explicit ordering if provided\n",
    "        if x_axis_order:\n",
    "            data['Scenario'] = pd.Categorical(data['Scenario'], categories=x_axis_order, ordered=True)\n",
    "\n",
    "        # Plotting the box plot\n",
    "        fig = px.box(\n",
    "            data,\n",
    "            x='Scenario',\n",
    "            y='IRR [Decimal]',\n",
    "            color='Scenario',\n",
    "            title='Box Plot of Equity IRR per Scenario',\n",
    "            category_orders={'Scenario': x_axis_order},  # Explicitly set category order in Plotly\n",
    "            color_discrete_sequence=[\n",
    "                \"#1c33ff\", \"#ff1930\", \"#ffb01c\", \"#7519ff\", \"#ff6f1c\", \n",
    "                \"#a3ff19\", \"#19ffe8\", \"#e819ff\", \"#a5a7dd\", \"#565a8c\", \n",
    "                \"#930700\", \"#2ade72\"\n",
    "            ]\n",
    "        )\n",
    "        \n",
    "        # Update layout with size parameters\n",
    "        fig.update_layout(\n",
    "            width=width,\n",
    "            height=height,\n",
    "            xaxis_title=\"Scenario\",\n",
    "            yaxis_title=\"IRR [Decimal]\"\n",
    "        )\n",
    "        \n",
    "        # Show plot\n",
    "        fig.show()\n",
    "\n",
    "        # Apply explicit ordering if provided\n",
    "        if x_axis_order:\n",
    "            data['Scenario'] = pd.Categorical(data['Scenario'], categories=x_axis_order, ordered=True)\n",
    "\n",
    "        # Group by scenario and calculate Q3 for each case\n",
    "        q3_values = data.groupby('Scenario')['IRR [Decimal]'].quantile(0.75)\n",
    "\n",
    "        # Identify the best case dynamically (e.g., the case with the highest Q3)\n",
    "        best_case = q3_values.idxmax()\n",
    "        best_case_q3 = q3_values.max()\n",
    "\n",
    "        print(f\"Best case scenario: {best_case}\")\n",
    "        print(f\"Q3 (third quartile) of the best-case scenario: {best_case_q3}\")\n",
    "\n",
    "        self.q3_IRR = best_case_q3\n",
    "\n",
    "    def plot_npv_boxplot(self, width=800, height=600):\n",
    "        o = self.o\n",
    "        case_series = self.x['Case']\n",
    "        x_axis_order = list(self.model_cases)\n",
    "\n",
    "        # Extract NPV values\n",
    "        npv_values = np.array(o['Equity_NPV']).astype(float)\n",
    "        \n",
    "        # Ensure the lengths match\n",
    "        if len(npv_values) != len(case_series):\n",
    "            raise ValueError(\"Mismatch between the number of values and cases.\")\n",
    "        \n",
    "        # Create a DataFrame\n",
    "        data = pd.DataFrame({\n",
    "            'NPV [EUR]': npv_values,\n",
    "            'Scenario': case_series\n",
    "        })\n",
    "\n",
    "        # Apply explicit ordering if provided\n",
    "        if x_axis_order:\n",
    "            data['Scenario'] = pd.Categorical(data['Scenario'], categories=x_axis_order, ordered=True)\n",
    "\n",
    "        # Plotting the box plot\n",
    "        fig = px.box(\n",
    "            data,\n",
    "            x='Scenario',\n",
    "            y='NPV [EUR]',\n",
    "            color='Scenario',\n",
    "            title='Box Plot of Equity NPV per Scenario',\n",
    "            category_orders={'Scenario': x_axis_order},  # Explicitly set category order in Plotly\n",
    "            color_discrete_sequence=[\n",
    "                \"#1c33ff\", \"#ff1930\", \"#ffb01c\", \"#7519ff\", \"#ff6f1c\", \n",
    "                \"#a3ff19\", \"#19ffe8\", \"#e819ff\", \"#a5a7dd\", \"#565a8c\", \n",
    "                \"#930700\", \"#2ade72\"\n",
    "            ]\n",
    "        )\n",
    "        \n",
    "        # Update layout with size parameters\n",
    "        fig.update_layout(\n",
    "            width=width,\n",
    "            height=height,\n",
    "            xaxis_title=\"Scenario\",\n",
    "            yaxis_title=\"NPV [Euro]\"\n",
    "        )\n",
    "        \n",
    "        # Show plot\n",
    "        fig.show()\n",
    "\n",
    "    def prim(self):\n",
    "        x = self.x\n",
    "        o = self.o\n",
    "\n",
    "        # Define the condition for the PRIM algorithm\n",
    "        y = (o[\"Equity_IRR\"] > self.q3_IRR)\n",
    "\n",
    "        # Run the PRIM algorithm\n",
    "        prim_alg = prim.Prim(x, y, threshold=0.8, peel_alpha=0.1)\n",
    "        box1 = prim_alg.find_box()\n",
    "\n",
    "        # Show the trade-off plot\n",
    "        box1.show_tradeoff()\n",
    "\n",
    "        # Set the figure size for the trade-off plot\n",
    "        fig = plt.gcf()\n",
    "        fig.set_size_inches(14, 7)\n",
    "\n",
    "    def conditional_analysis(self, boi):\n",
    "        boi = boi\n",
    "\n",
    "        # Inspect the selected box\n",
    "        box1.inspect(boi, style='graph')\n",
    "\n",
    "        # Adjust the graph for better visualization\n",
    "        plt.gcf().set_size_inches(17, 5)\n",
    "        plt.grid(True)\n",
    "        plt.tight_layout()\n",
    "        plt.show()\n",
    "\n",
    "    def feature_importance(self):\n",
    "        o = self.o\n",
    "        x = self.x\n",
    "\n",
    "        y = o[\"Equity_IRR\"] > self.q3_IRR\n",
    "\n",
    "        fs, alg = feature_scoring.get_ex_feature_scores(x, y, mode=RuleInductionType.CLASSIFICATION)\n",
    "        fs.sort_values(ascending=False, by=1)\n",
    "\n",
    "        # Assuming fs is a DataFrame resulting from the feature scoring process\n",
    "        # Sort by the second column (column index 1)\n",
    "        fs = fs.sort_values(ascending=False, by=1)\n",
    "\n",
    "        # Pretty display using pandas styling\n",
    "        fs_sorted = fs.style.background_gradient(cmap=\"viridis\")\n",
    "        fs_sorted\n",
    "\n",
    "        # Assuming fs is a DataFrame resulting from the feature scoring process\n",
    "        # Sort by the second column (column index 1)\n",
    "        fs_sorted = fs.sort_values(ascending=False, by=1)\n",
    "\n",
    "        # Omit the row that has the value for \"Policy\"\n",
    "        fs_sorted2 = fs_sorted[fs_sorted.index != 'policy']\n",
    "\n",
    "        # Pretty display using pandas styling\n",
    "        styled_fs = fs_sorted2.style.background_gradient(cmap=\"viridis\")\n",
    "\n",
    "        # To display the styled DataFrame\n",
    "        styled_fs\n",
    "\n",
    "        # Reset the index and drop the unwanted 'index' column (which was previously the 'Case' row)\n",
    "        fs_reset = fs_sorted2.reset_index()\n",
    "\n",
    "        fs_reset.columns = ['Feature', 'Score']\n",
    "\n",
    "        # Rename the remaining columns to 'Feature' and 'Score'\n",
    "        fs_reset.columns = ['Feature', 'Score']\n",
    "\n",
    "        # Sort the DataFrame by scores in descending order\n",
    "        fs_sorted = fs_reset.sort_values(by='Score', ascending=False)\n",
    "\n",
    "        # Verify if the 'Case' feature is removed\n",
    "        print(fs_sorted.head())\n",
    "\n",
    "        # Plot with Seaborn\n",
    "        plt.figure(figsize=(12, 6))\n",
    "        ax = sns.barplot(x='Feature', y='Score', data=fs_sorted[fs_sorted[\"Feature\"] != \"Case\"], palette='viridis_r')\n",
    "\n",
    "        # Add labels on top of bars\n",
    "        for p in ax.patches:\n",
    "            ax.annotate(f'{p.get_height()*100:.2f}%',  # Format the percentage with 2 decimals\n",
    "                        (p.get_x() + p.get_width() / 2, p.get_height()),  # Position the label\n",
    "                        ha='center', va='bottom', fontsize=10, color='black')  # Alignments and styling\n",
    "\n",
    "        # Titles and labels\n",
    "        plt.title('Feature Importance Scores')\n",
    "        plt.xticks(rotation=45, ha='right')\n",
    "        plt.xlabel(\"Feature\")\n",
    "        plt.ylabel(\"Score\")\n",
    "        plt.show()"
   ]
  },
  {
   "cell_type": "code",
   "execution_count": null,
   "id": "02cad473",
   "metadata": {},
   "outputs": [
    {
     "name": "stderr",
     "output_type": "stream",
     "text": [
      "[MainProcess/INFO] performing 2 scenarios * 5 policies * 1 model(s) = 10 experiments\n",
      "  0%|                                                   | 0/10 [00:00<?, ?it/s][MainProcess/INFO] performing experiments sequentially\n",
      "100%|██████████████████████████████████████████| 10/10 [01:28<00:00,  8.88s/it]\n",
      "[MainProcess/INFO] experiments finished\n"
     ]
    },
    {
     "name": "stdout",
     "output_type": "stream",
     "text": [
      "Reshaped TIME to (10, 192)\n",
      "Reshaped Rolling_Equity_IRR to (10, 192)\n",
      "Final dimensions of TIME: (10, 192)\n",
      "Final dimensions of MODELCHECK: (10,)\n",
      "Final dimensions of Rolling_Equity_IRR: (10, 192)\n",
      "Final dimensions of Equity_IRR: (10,)\n",
      "Final dimensions of Equity_NPV: (10,)\n"
     ]
    },
    {
     "data": {
      "image/png": "[encoded data removed]",
      "text/plain": [
       "<Figure size 1400x700 with 2 Axes>"
      ]
     },
     "metadata": {},
     "output_type": "display_data"
    },
    {
     "data": {
      "application/vnd.plotly.v1+json": {
       "config": {
        "plotlyServerURL": "https://plot.ly"
       },
       "data": [
        {
         "alignmentgroup": "True",
         "hovertemplate": "Scenario=%{x}<br>IRR [Decimal]=%{y}<extra></extra>",
         "legendgroup": "DA 9.9MW Offtake",
         "marker": {
          "color": "#1c33ff"
         },
         "name": "DA 9.9MW Offtake",
         "notched": false,
         "offsetgroup": "DA 9.9MW Offtake",
         "orientation": "v",
         "showlegend": true,
         "type": "box",
         "x": [
          "DA 9.9MW Offtake",
          "DA 9.9MW Offtake"
         ],
         "x0": " ",
         "xaxis": "x",
         "y": [
          0.5937759113311767,
          0.5507108402252197
         ],
         "y0": " ",
         "yaxis": "y"
        },
        {
         "alignmentgroup": "True",
         "hovertemplate": "Scenario=%{x}<br>IRR [Decimal]=%{y}<extra></extra>",
         "legendgroup": "DA+IM 9.9MW Offtake",
         "marker": {
          "color": "#ff1930"
         },
         "name": "DA+IM 9.9MW Offtake",
         "notched": false,
         "offsetgroup": "DA+IM 9.9MW Offtake",
         "orientation": "v",
         "showlegend": true,
         "type": "box",
         "x": [
          "DA+IM 9.9MW Offtake",
          "DA+IM 9.9MW Offtake"
         ],
         "x0": " ",
         "xaxis": "x",
         "y": [
          0.8728755283355711,
          0.787901887893677
         ],
         "y0": " ",
         "yaxis": "y"
        },
        {
         "alignmentgroup": "True",
         "hovertemplate": "Scenario=%{x}<br>IRR [Decimal]=%{y}<extra></extra>",
         "legendgroup": "DA+IM+ID 9.9MW Offtake",
         "marker": {
          "color": "#ffb01c"
         },
         "name": "DA+IM+ID 9.9MW Offtake",
         "notched": false,
         "offsetgroup": "DA+IM+ID 9.9MW Offtake",
         "orientation": "v",
         "showlegend": true,
         "type": "box",
         "x": [
          "DA+IM+ID 9.9MW Offtake",
          "DA+IM+ID 9.9MW Offtake"
         ],
         "x0": " ",
         "xaxis": "x",
         "y": [
          0.9425625324249267,
          0.8487402057647706
         ],
         "y0": " ",
         "yaxis": "y"
        },
        {
         "alignmentgroup": "True",
         "hovertemplate": "Scenario=%{x}<br>IRR [Decimal]=%{y}<extra></extra>",
         "legendgroup": "DA+IM+ID 7MW Offtake",
         "marker": {
          "color": "#7519ff"
         },
         "name": "DA+IM+ID 7MW Offtake",
         "notched": false,
         "offsetgroup": "DA+IM+ID 7MW Offtake",
         "orientation": "v",
         "showlegend": true,
         "type": "box",
         "x": [
          "DA+IM+ID 7MW Offtake",
          "DA+IM+ID 7MW Offtake"
         ],
         "x0": " ",
         "xaxis": "x",
         "y": [
          0.9434506320953369,
          0.8396972370147706
         ],
         "y0": " ",
         "yaxis": "y"
        },
        {
         "alignmentgroup": "True",
         "hovertemplate": "Scenario=%{x}<br>IRR [Decimal]=%{y}<extra></extra>",
         "legendgroup": "DA+IM+ID 8.5MW Offtake",
         "marker": {
          "color": "#ff6f1c"
         },
         "name": "DA+IM+ID 8.5MW Offtake",
         "notched": false,
         "offsetgroup": "DA+IM+ID 8.5MW Offtake",
         "orientation": "v",
         "showlegend": true,
         "type": "box",
         "x": [
          "DA+IM+ID 8.5MW Offtake",
          "DA+IM+ID 8.5MW Offtake"
         ],
         "x0": " ",
         "xaxis": "x",
         "y": [
          0.9584160518646241,
          0.8560136508941651
         ],
         "y0": " ",
         "yaxis": "y"
        }
       ],
       "layout": {
        "boxmode": "overlay",
        "height": 600,
        "legend": {
         "title": {
          "text": "Scenario"
         },
         "tracegroupgap": 0
        },
        "template": {
         "data": {
          "bar": [
           {
            "error_x": {
             "color": "#2a3f5f"
            },
            "error_y": {
             "color": "#2a3f5f"
            },
            "marker": {
             "line": {
              "color": "#E5ECF6",
              "width": 0.5
             },
             "pattern": {
              "fillmode": "overlay",
              "size": 10,
              "solidity": 0.2
             }
            },
            "type": "bar"
           }
          ],
          "barpolar": [
           {
            "marker": {
             "line": {
              "color": "#E5ECF6",
              "width": 0.5
             },
             "pattern": {
              "fillmode": "overlay",
              "size": 10,
              "solidity": 0.2
             }
            },
            "type": "barpolar"
           }
          ],
          "carpet": [
           {
            "aaxis": {
             "endlinecolor": "#2a3f5f",
             "gridcolor": "white",
             "linecolor": "white",
             "minorgridcolor": "white",
             "startlinecolor": "#2a3f5f"
            },
            "baxis": {
             "endlinecolor": "#2a3f5f",
             "gridcolor": "white",
             "linecolor": "white",
             "minorgridcolor": "white",
             "startlinecolor": "#2a3f5f"
            },
            "type": "carpet"
           }
          ],
          "choropleth": [
           {
            "colorbar": {
             "outlinewidth": 0,
             "ticks": ""
            },
            "type": "choropleth"
           }
          ],
          "contour": [
           {
            "colorbar": {
             "outlinewidth": 0,
             "ticks": ""
            },
            "colorscale": [
             [
              0,
              "#0d0887"
             ],
             [
              0.1111111111111111,
              "#46039f"
             ],
             [
              0.2222222222222222,
              "#7201a8"
             ],
             [
              0.3333333333333333,
              "#9c179e"
             ],
             [
              0.4444444444444444,
              "#bd3786"
             ],
             [
              0.5555555555555556,
              "#d8576b"
             ],
             [
              0.6666666666666666,
              "#ed7953"
             ],
             [
              0.7777777777777778,
              "#fb9f3a"
             ],
             [
              0.8888888888888888,
              "#fdca26"
             ],
             [
              1,
              "#f0f921"
             ]
            ],
            "type": "contour"
           }
          ],
          "contourcarpet": [
           {
            "colorbar": {
             "outlinewidth": 0,
             "ticks": ""
            },
            "type": "contourcarpet"
           }
          ],
          "heatmap": [
           {
            "colorbar": {
             "outlinewidth": 0,
             "ticks": ""
            },
            "colorscale": [
             [
              0,
              "#0d0887"
             ],
             [
              0.1111111111111111,
              "#46039f"
             ],
             [
              0.2222222222222222,
              "#7201a8"
             ],
             [
              0.3333333333333333,
              "#9c179e"
             ],
             [
              0.4444444444444444,
              "#bd3786"
             ],
             [
              0.5555555555555556,
              "#d8576b"
             ],
             [
              0.6666666666666666,
              "#ed7953"
             ],
             [
              0.7777777777777778,
              "#fb9f3a"
             ],
             [
              0.8888888888888888,
              "#fdca26"
             ],
             [
              1,
              "#f0f921"
             ]
            ],
            "type": "heatmap"
           }
          ],
          "heatmapgl": [
           {
            "colorbar": {
             "outlinewidth": 0,
             "ticks": ""
            },
            "colorscale": [
             [
              0,
              "#0d0887"
             ],
             [
              0.1111111111111111,
              "#46039f"
             ],
             [
              0.2222222222222222,
              "#7201a8"
             ],
             [
              0.3333333333333333,
              "#9c179e"
             ],
             [
              0.4444444444444444,
              "#bd3786"
             ],
             [
              0.5555555555555556,
              "#d8576b"
             ],
             [
              0.6666666666666666,
              "#ed7953"
             ],
             [
              0.7777777777777778,
              "#fb9f3a"
             ],
             [
              0.8888888888888888,
              "#fdca26"
             ],
             [
              1,
              "#f0f921"
             ]
            ],
            "type": "heatmapgl"
           }
          ],
          "histogram": [
           {
            "marker": {
             "pattern": {
              "fillmode": "overlay",
              "size": 10,
              "solidity": 0.2
             }
            },
            "type": "histogram"
           }
          ],
          "histogram2d": [
           {
            "colorbar": {
             "outlinewidth": 0,
             "ticks": ""
            },
            "colorscale": [
             [
              0,
              "#0d0887"
             ],
             [
              0.1111111111111111,
              "#46039f"
             ],
             [
              0.2222222222222222,
              "#7201a8"
             ],
             [
              0.3333333333333333,
              "#9c179e"
             ],
             [
              0.4444444444444444,
              "#bd3786"
             ],
             [
              0.5555555555555556,
              "#d8576b"
             ],
             [
              0.6666666666666666,
              "#ed7953"
             ],
             [
              0.7777777777777778,
              "#fb9f3a"
             ],
             [
              0.8888888888888888,
              "#fdca26"
             ],
             [
              1,
              "#f0f921"
             ]
            ],
            "type": "histogram2d"
           }
          ],
          "histogram2dcontour": [
           {
            "colorbar": {
             "outlinewidth": 0,
             "ticks": ""
            },
            "colorscale": [
             [
              0,
              "#0d0887"
             ],
             [
              0.1111111111111111,
              "#46039f"
             ],
             [
              0.2222222222222222,
              "#7201a8"
             ],
             [
              0.3333333333333333,
              "#9c179e"
             ],
             [
              0.4444444444444444,
              "#bd3786"
             ],
             [
              0.5555555555555556,
              "#d8576b"
             ],
             [
              0.6666666666666666,
              "#ed7953"
             ],
             [
              0.7777777777777778,
              "#fb9f3a"
             ],
             [
              0.8888888888888888,
              "#fdca26"
             ],
             [
              1,
              "#f0f921"
             ]
            ],
            "type": "histogram2dcontour"
           }
          ],
          "mesh3d": [
           {
            "colorbar": {
             "outlinewidth": 0,
             "ticks": ""
            },
            "type": "mesh3d"
           }
          ],
          "parcoords": [
           {
            "line": {
             "colorbar": {
              "outlinewidth": 0,
              "ticks": ""
             }
            },
            "type": "parcoords"
           }
          ],
          "pie": [
           {
            "automargin": true,
            "type": "pie"
           }
          ],
          "scatter": [
           {
            "fillpattern": {
             "fillmode": "overlay",
             "size": 10,
             "solidity": 0.2
            },
            "type": "scatter"
           }
          ],
          "scatter3d": [
           {
            "line": {
             "colorbar": {
              "outlinewidth": 0,
              "ticks": ""
             }
            },
            "marker": {
             "colorbar": {
              "outlinewidth": 0,
              "ticks": ""
             }
            },
            "type": "scatter3d"
           }
          ],
          "scattercarpet": [
           {
            "marker": {
             "colorbar": {
              "outlinewidth": 0,
              "ticks": ""
             }
            },
            "type": "scattercarpet"
           }
          ],
          "scattergeo": [
           {
            "marker": {
             "colorbar": {
              "outlinewidth": 0,
              "ticks": ""
             }
            },
            "type": "scattergeo"
           }
          ],
          "scattergl": [
           {
            "marker": {
             "colorbar": {
              "outlinewidth": 0,
              "ticks": ""
             }
            },
            "type": "scattergl"
           }
          ],
          "scattermapbox": [
           {
            "marker": {
             "colorbar": {
              "outlinewidth": 0,
              "ticks": ""
             }
            },
            "type": "scattermapbox"
           }
          ],
          "scatterpolar": [
           {
            "marker": {
             "colorbar": {
              "outlinewidth": 0,
              "ticks": ""
             }
            },
            "type": "scatterpolar"
           }
          ],
          "scatterpolargl": [
           {
            "marker": {
             "colorbar": {
              "outlinewidth": 0,
              "ticks": ""
             }
            },
            "type": "scatterpolargl"
           }
          ],
          "scatterternary": [
           {
            "marker": {
             "colorbar": {
              "outlinewidth": 0,
              "ticks": ""
             }
            },
            "type": "scatterternary"
           }
          ],
          "surface": [
           {
            "colorbar": {
             "outlinewidth": 0,
             "ticks": ""
            },
            "colorscale": [
             [
              0,
              "#0d0887"
             ],
             [
              0.1111111111111111,
              "#46039f"
             ],
             [
              0.2222222222222222,
              "#7201a8"
             ],
             [
              0.3333333333333333,
              "#9c179e"
             ],
             [
              0.4444444444444444,
              "#bd3786"
             ],
             [
              0.5555555555555556,
              "#d8576b"
             ],
             [
              0.6666666666666666,
              "#ed7953"
             ],
             [
              0.7777777777777778,
              "#fb9f3a"
             ],
             [
              0.8888888888888888,
              "#fdca26"
             ],
             [
              1,
              "#f0f921"
             ]
            ],
            "type": "surface"
           }
          ],
          "table": [
           {
            "cells": {
             "fill": {
              "color": "#EBF0F8"
             },
             "line": {
              "color": "white"
             }
            },
            "header": {
             "fill": {
              "color": "#C8D4E3"
             },
             "line": {
              "color": "white"
             }
            },
            "type": "table"
           }
          ]
         },
         "layout": {
          "annotationdefaults": {
           "arrowcolor": "#2a3f5f",
           "arrowhead": 0,
           "arrowwidth": 1
          },
          "autotypenumbers": "strict",
          "coloraxis": {
           "colorbar": {
            "outlinewidth": 0,
            "ticks": ""
           }
          },
          "colorscale": {
           "diverging": [
            [
             0,
             "#8e0152"
            ],
            [
             0.1,
             "#c51b7d"
            ],
            [
             0.2,
             "#de77ae"
            ],
            [
             0.3,
             "#f1b6da"
            ],
            [
             0.4,
             "#fde0ef"
            ],
            [
             0.5,
             "#f7f7f7"
            ],
            [
             0.6,
             "#e6f5d0"
            ],
            [
             0.7,
             "#b8e186"
            ],
            [
             0.8,
             "#7fbc41"
            ],
            [
             0.9,
             "#4d9221"
            ],
            [
             1,
             "#276419"
            ]
           ],
           "sequential": [
            [
             0,
             "#0d0887"
            ],
            [
             0.1111111111111111,
             "#46039f"
            ],
            [
             0.2222222222222222,
             "#7201a8"
            ],
            [
             0.3333333333333333,
             "#9c179e"
            ],
            [
             0.4444444444444444,
             "#bd3786"
            ],
            [
             0.5555555555555556,
             "#d8576b"
            ],
            [
             0.6666666666666666,
             "#ed7953"
            ],
            [
             0.7777777777777778,
             "#fb9f3a"
            ],
            [
             0.8888888888888888,
             "#fdca26"
            ],
            [
             1,
             "#f0f921"
            ]
           ],
           "sequentialminus": [
            [
             0,
             "#0d0887"
            ],
            [
             0.1111111111111111,
             "#46039f"
            ],
            [
             0.2222222222222222,
             "#7201a8"
            ],
            [
             0.3333333333333333,
             "#9c179e"
            ],
            [
             0.4444444444444444,
             "#bd3786"
            ],
            [
             0.5555555555555556,
             "#d8576b"
            ],
            [
             0.6666666666666666,
             "#ed7953"
            ],
            [
             0.7777777777777778,
             "#fb9f3a"
            ],
            [
             0.8888888888888888,
             "#fdca26"
            ],
            [
             1,
             "#f0f921"
            ]
           ]
          },
          "colorway": [
           "#636efa",
           "#EF553B",
           "#00cc96",
           "#ab63fa",
           "#FFA15A",
           "#19d3f3",
           "#FF6692",
           "#B6E880",
           "#FF97FF",
           "#FECB52"
          ],
          "font": {
           "color": "#2a3f5f"
          },
          "geo": {
           "bgcolor": "white",
           "lakecolor": "white",
           "landcolor": "#E5ECF6",
           "showlakes": true,
           "showland": true,
           "subunitcolor": "white"
          },
          "hoverlabel": {
           "align": "left"
          },
          "hovermode": "closest",
          "mapbox": {
           "style": "light"
          },
          "paper_bgcolor": "white",
          "plot_bgcolor": "#E5ECF6",
          "polar": {
           "angularaxis": {
            "gridcolor": "white",
            "linecolor": "white",
            "ticks": ""
           },
           "bgcolor": "#E5ECF6",
           "radialaxis": {
            "gridcolor": "white",
            "linecolor": "white",
            "ticks": ""
           }
          },
          "scene": {
           "xaxis": {
            "backgroundcolor": "#E5ECF6",
            "gridcolor": "white",
            "gridwidth": 2,
            "linecolor": "white",
            "showbackground": true,
            "ticks": "",
            "zerolinecolor": "white"
           },
           "yaxis": {
            "backgroundcolor": "#E5ECF6",
            "gridcolor": "white",
            "gridwidth": 2,
            "linecolor": "white",
            "showbackground": true,
            "ticks": "",
            "zerolinecolor": "white"
           },
           "zaxis": {
            "backgroundcolor": "#E5ECF6",
            "gridcolor": "white",
            "gridwidth": 2,
            "linecolor": "white",
            "showbackground": true,
            "ticks": "",
            "zerolinecolor": "white"
           }
          },
          "shapedefaults": {
           "line": {
            "color": "#2a3f5f"
           }
          },
          "ternary": {
           "aaxis": {
            "gridcolor": "white",
            "linecolor": "white",
            "ticks": ""
           },
           "baxis": {
            "gridcolor": "white",
            "linecolor": "white",
            "ticks": ""
           },
           "bgcolor": "#E5ECF6",
           "caxis": {
            "gridcolor": "white",
            "linecolor": "white",
            "ticks": ""
           }
          },
          "title": {
           "x": 0.05
          },
          "xaxis": {
           "automargin": true,
           "gridcolor": "white",
           "linecolor": "white",
           "ticks": "",
           "title": {
            "standoff": 15
           },
           "zerolinecolor": "white",
           "zerolinewidth": 2
          },
          "yaxis": {
           "automargin": true,
           "gridcolor": "white",
           "linecolor": "white",
           "ticks": "",
           "title": {
            "standoff": 15
           },
           "zerolinecolor": "white",
           "zerolinewidth": 2
          }
         }
        },
        "title": {
         "text": "Box Plot of Equity IRR per Scenario"
        },
        "width": 800,
        "xaxis": {
         "anchor": "y",
         "categoryarray": [
          "DA 9.9MW Offtake",
          "DA+IM 9.9MW Offtake",
          "DA+IM+ID 9.9MW Offtake",
          "DA+IM+ID 7MW Offtake",
          "DA+IM+ID 8.5MW Offtake"
         ],
         "categoryorder": "array",
         "domain": [
          0,
          1
         ],
         "title": {
          "text": "Scenario"
         }
        },
        "yaxis": {
         "anchor": "x",
         "domain": [
          0,
          1
         ],
         "title": {
          "text": "IRR [Decimal]"
         }
        }
       }
      }
     },
     "metadata": {},
     "output_type": "display_data"
    },
    {
     "name": "stdout",
     "output_type": "stream",
     "text": [
      "Best case scenario: DA+IM+ID 8.5MW Offtake\n",
      "Q3 (third quartile) of the best-case scenario: 0.9328154516220093\n"
     ]
    },
    {
     "name": "stderr",
     "output_type": "stream",
     "text": [
      "C:\\Users\\AlisyaMustikaa\\AppData\\Local\\Temp\\ipykernel_2268\\3086051701.py:192: FutureWarning:\n",
      "\n",
      "The default of observed=False is deprecated and will be changed to True in a future version of pandas. Pass observed=False to retain current behavior or observed=True to adopt the future default and silence this warning.\n",
      "\n"
     ]
    },
    {
     "data": {
      "application/vnd.plotly.v1+json": {
       "config": {
        "plotlyServerURL": "https://plot.ly"
       },
       "data": [
        {
         "alignmentgroup": "True",
         "hovertemplate": "Scenario=%{x}<br>NPV [EUR]=%{y}<extra></extra>",
         "legendgroup": "DA 9.9MW Offtake",
         "marker": {
          "color": "#1c33ff"
         },
         "name": "DA 9.9MW Offtake",
         "notched": false,
         "offsetgroup": "DA 9.9MW Offtake",
         "orientation": "v",
         "showlegend": true,
         "type": "box",
         "x": [
          "DA 9.9MW Offtake",
          "DA 9.9MW Offtake"
         ],
         "x0": " ",
         "xaxis": "x",
         "y": [
          8083202.415400643,
          8830620.347559098
         ],
         "y0": " ",
         "yaxis": "y"
        },
        {
         "alignmentgroup": "True",
         "hovertemplate": "Scenario=%{x}<br>NPV [EUR]=%{y}<extra></extra>",
         "legendgroup": "DA+IM 9.9MW Offtake",
         "marker": {
          "color": "#ff1930"
         },
         "name": "DA+IM 9.9MW Offtake",
         "notched": false,
         "offsetgroup": "DA+IM 9.9MW Offtake",
         "orientation": "v",
         "showlegend": true,
         "type": "box",
         "x": [
          "DA+IM 9.9MW Offtake",
          "DA+IM 9.9MW Offtake"
         ],
         "x0": " ",
         "xaxis": "x",
         "y": [
          13229257.598473363,
          13938500.04512438
         ],
         "y0": " ",
         "yaxis": "y"
        },
        {
         "alignmentgroup": "True",
         "hovertemplate": "Scenario=%{x}<br>NPV [EUR]=%{y}<extra></extra>",
         "legendgroup": "DA+IM+ID 9.9MW Offtake",
         "marker": {
          "color": "#ffb01c"
         },
         "name": "DA+IM+ID 9.9MW Offtake",
         "notched": false,
         "offsetgroup": "DA+IM+ID 9.9MW Offtake",
         "orientation": "v",
         "showlegend": true,
         "type": "box",
         "x": [
          "DA+IM+ID 9.9MW Offtake",
          "DA+IM+ID 9.9MW Offtake"
         ],
         "x0": " ",
         "xaxis": "x",
         "y": [
          14852364.580081657,
          15514958.519364784
         ],
         "y0": " ",
         "yaxis": "y"
        },
        {
         "alignmentgroup": "True",
         "hovertemplate": "Scenario=%{x}<br>NPV [EUR]=%{y}<extra></extra>",
         "legendgroup": "DA+IM+ID 7MW Offtake",
         "marker": {
          "color": "#7519ff"
         },
         "name": "DA+IM+ID 7MW Offtake",
         "notched": false,
         "offsetgroup": "DA+IM+ID 7MW Offtake",
         "orientation": "v",
         "showlegend": true,
         "type": "box",
         "x": [
          "DA+IM+ID 7MW Offtake",
          "DA+IM+ID 7MW Offtake"
         ],
         "x0": " ",
         "xaxis": "x",
         "y": [
          15268028.640421644,
          15639090.310730968
         ],
         "y0": " ",
         "yaxis": "y"
        },
        {
         "alignmentgroup": "True",
         "hovertemplate": "Scenario=%{x}<br>NPV [EUR]=%{y}<extra></extra>",
         "legendgroup": "DA+IM+ID 8.5MW Offtake",
         "marker": {
          "color": "#ff6f1c"
         },
         "name": "DA+IM+ID 8.5MW Offtake",
         "notched": false,
         "offsetgroup": "DA+IM+ID 8.5MW Offtake",
         "orientation": "v",
         "showlegend": true,
         "type": "box",
         "x": [
          "DA+IM+ID 8.5MW Offtake",
          "DA+IM+ID 8.5MW Offtake"
         ],
         "x0": " ",
         "xaxis": "x",
         "y": [
          15491615.688615568,
          15935205.977602588
         ],
         "y0": " ",
         "yaxis": "y"
        }
       ],
       "layout": {
        "boxmode": "overlay",
        "height": 600,
        "legend": {
         "title": {
          "text": "Scenario"
         },
         "tracegroupgap": 0
        },
        "template": {
         "data": {
          "bar": [
           {
            "error_x": {
             "color": "#2a3f5f"
            },
            "error_y": {
             "color": "#2a3f5f"
            },
            "marker": {
             "line": {
              "color": "#E5ECF6",
              "width": 0.5
             },
             "pattern": {
              "fillmode": "overlay",
              "size": 10,
              "solidity": 0.2
             }
            },
            "type": "bar"
           }
          ],
          "barpolar": [
           {
            "marker": {
             "line": {
              "color": "#E5ECF6",
              "width": 0.5
             },
             "pattern": {
              "fillmode": "overlay",
              "size": 10,
              "solidity": 0.2
             }
            },
            "type": "barpolar"
           }
          ],
          "carpet": [
           {
            "aaxis": {
             "endlinecolor": "#2a3f5f",
             "gridcolor": "white",
             "linecolor": "white",
             "minorgridcolor": "white",
             "startlinecolor": "#2a3f5f"
            },
            "baxis": {
             "endlinecolor": "#2a3f5f",
             "gridcolor": "white",
             "linecolor": "white",
             "minorgridcolor": "white",
             "startlinecolor": "#2a3f5f"
            },
            "type": "carpet"
           }
          ],
          "choropleth": [
           {
            "colorbar": {
             "outlinewidth": 0,
             "ticks": ""
            },
            "type": "choropleth"
           }
          ],
          "contour": [
           {
            "colorbar": {
             "outlinewidth": 0,
             "ticks": ""
            },
            "colorscale": [
             [
              0,
              "#0d0887"
             ],
             [
              0.1111111111111111,
              "#46039f"
             ],
             [
              0.2222222222222222,
              "#7201a8"
             ],
             [
              0.3333333333333333,
              "#9c179e"
             ],
             [
              0.4444444444444444,
              "#bd3786"
             ],
             [
              0.5555555555555556,
              "#d8576b"
             ],
             [
              0.6666666666666666,
              "#ed7953"
             ],
             [
              0.7777777777777778,
              "#fb9f3a"
             ],
             [
              0.8888888888888888,
              "#fdca26"
             ],
             [
              1,
              "#f0f921"
             ]
            ],
            "type": "contour"
           }
          ],
          "contourcarpet": [
           {
            "colorbar": {
             "outlinewidth": 0,
             "ticks": ""
            },
            "type": "contourcarpet"
           }
          ],
          "heatmap": [
           {
            "colorbar": {
             "outlinewidth": 0,
             "ticks": ""
            },
            "colorscale": [
             [
              0,
              "#0d0887"
             ],
             [
              0.1111111111111111,
              "#46039f"
             ],
             [
              0.2222222222222222,
              "#7201a8"
             ],
             [
              0.3333333333333333,
              "#9c179e"
             ],
             [
              0.4444444444444444,
              "#bd3786"
             ],
             [
              0.5555555555555556,
              "#d8576b"
             ],
             [
              0.6666666666666666,
              "#ed7953"
             ],
             [
              0.7777777777777778,
              "#fb9f3a"
             ],
             [
              0.8888888888888888,
              "#fdca26"
             ],
             [
              1,
              "#f0f921"
             ]
            ],
            "type": "heatmap"
           }
          ],
          "heatmapgl": [
           {
            "colorbar": {
             "outlinewidth": 0,
             "ticks": ""
            },
            "colorscale": [
             [
              0,
              "#0d0887"
             ],
             [
              0.1111111111111111,
              "#46039f"
             ],
             [
              0.2222222222222222,
              "#7201a8"
             ],
             [
              0.3333333333333333,
              "#9c179e"
             ],
             [
              0.4444444444444444,
              "#bd3786"
             ],
             [
              0.5555555555555556,
              "#d8576b"
             ],
             [
              0.6666666666666666,
              "#ed7953"
             ],
             [
              0.7777777777777778,
              "#fb9f3a"
             ],
             [
              0.8888888888888888,
              "#fdca26"
             ],
             [
              1,
              "#f0f921"
             ]
            ],
            "type": "heatmapgl"
           }
          ],
          "histogram": [
           {
            "marker": {
             "pattern": {
              "fillmode": "overlay",
              "size": 10,
              "solidity": 0.2
             }
            },
            "type": "histogram"
           }
          ],
          "histogram2d": [
           {
            "colorbar": {
             "outlinewidth": 0,
             "ticks": ""
            },
            "colorscale": [
             [
              0,
              "#0d0887"
             ],
             [
              0.1111111111111111,
              "#46039f"
             ],
             [
              0.2222222222222222,
              "#7201a8"
             ],
             [
              0.3333333333333333,
              "#9c179e"
             ],
             [
              0.4444444444444444,
              "#bd3786"
             ],
             [
              0.5555555555555556,
              "#d8576b"
             ],
             [
              0.6666666666666666,
              "#ed7953"
             ],
             [
              0.7777777777777778,
              "#fb9f3a"
             ],
             [
              0.8888888888888888,
              "#fdca26"
             ],
             [
              1,
              "#f0f921"
             ]
            ],
            "type": "histogram2d"
           }
          ],
          "histogram2dcontour": [
           {
            "colorbar": {
             "outlinewidth": 0,
             "ticks": ""
            },
            "colorscale": [
             [
              0,
              "#0d0887"
             ],
             [
              0.1111111111111111,
              "#46039f"
             ],
             [
              0.2222222222222222,
              "#7201a8"
             ],
             [
              0.3333333333333333,
              "#9c179e"
             ],
             [
              0.4444444444444444,
              "#bd3786"
             ],
             [
              0.5555555555555556,
              "#d8576b"
             ],
             [
              0.6666666666666666,
              "#ed7953"
             ],
             [
              0.7777777777777778,
              "#fb9f3a"
             ],
             [
              0.8888888888888888,
              "#fdca26"
             ],
             [
              1,
              "#f0f921"
             ]
            ],
            "type": "histogram2dcontour"
           }
          ],
          "mesh3d": [
           {
            "colorbar": {
             "outlinewidth": 0,
             "ticks": ""
            },
            "type": "mesh3d"
           }
          ],
          "parcoords": [
           {
            "line": {
             "colorbar": {
              "outlinewidth": 0,
              "ticks": ""
             }
            },
            "type": "parcoords"
           }
          ],
          "pie": [
           {
            "automargin": true,
            "type": "pie"
           }
          ],
          "scatter": [
           {
            "fillpattern": {
             "fillmode": "overlay",
             "size": 10,
             "solidity": 0.2
            },
            "type": "scatter"
           }
          ],
          "scatter3d": [
           {
            "line": {
             "colorbar": {
              "outlinewidth": 0,
              "ticks": ""
             }
            },
            "marker": {
             "colorbar": {
              "outlinewidth": 0,
              "ticks": ""
             }
            },
            "type": "scatter3d"
           }
          ],
          "scattercarpet": [
           {
            "marker": {
             "colorbar": {
              "outlinewidth": 0,
              "ticks": ""
             }
            },
            "type": "scattercarpet"
           }
          ],
          "scattergeo": [
           {
            "marker": {
             "colorbar": {
              "outlinewidth": 0,
              "ticks": ""
             }
            },
            "type": "scattergeo"
           }
          ],
          "scattergl": [
           {
            "marker": {
             "colorbar": {
              "outlinewidth": 0,
              "ticks": ""
             }
            },
            "type": "scattergl"
           }
          ],
          "scattermapbox": [
           {
            "marker": {
             "colorbar": {
              "outlinewidth": 0,
              "ticks": ""
             }
            },
            "type": "scattermapbox"
           }
          ],
          "scatterpolar": [
           {
            "marker": {
             "colorbar": {
              "outlinewidth": 0,
              "ticks": ""
             }
            },
            "type": "scatterpolar"
           }
          ],
          "scatterpolargl": [
           {
            "marker": {
             "colorbar": {
              "outlinewidth": 0,
              "ticks": ""
             }
            },
            "type": "scatterpolargl"
           }
          ],
          "scatterternary": [
           {
            "marker": {
             "colorbar": {
              "outlinewidth": 0,
              "ticks": ""
             }
            },
            "type": "scatterternary"
           }
          ],
          "surface": [
           {
            "colorbar": {
             "outlinewidth": 0,
             "ticks": ""
            },
            "colorscale": [
             [
              0,
              "#0d0887"
             ],
             [
              0.1111111111111111,
              "#46039f"
             ],
             [
              0.2222222222222222,
              "#7201a8"
             ],
             [
              0.3333333333333333,
              "#9c179e"
             ],
             [
              0.4444444444444444,
              "#bd3786"
             ],
             [
              0.5555555555555556,
              "#d8576b"
             ],
             [
              0.6666666666666666,
              "#ed7953"
             ],
             [
              0.7777777777777778,
              "#fb9f3a"
             ],
             [
              0.8888888888888888,
              "#fdca26"
             ],
             [
              1,
              "#f0f921"
             ]
            ],
            "type": "surface"
           }
          ],
          "table": [
           {
            "cells": {
             "fill": {
              "color": "#EBF0F8"
             },
             "line": {
              "color": "white"
             }
            },
            "header": {
             "fill": {
              "color": "#C8D4E3"
             },
             "line": {
              "color": "white"
             }
            },
            "type": "table"
           }
          ]
         },
         "layout": {
          "annotationdefaults": {
           "arrowcolor": "#2a3f5f",
           "arrowhead": 0,
           "arrowwidth": 1
          },
          "autotypenumbers": "strict",
          "coloraxis": {
           "colorbar": {
            "outlinewidth": 0,
            "ticks": ""
           }
          },
          "colorscale": {
           "diverging": [
            [
             0,
             "#8e0152"
            ],
            [
             0.1,
             "#c51b7d"
            ],
            [
             0.2,
             "#de77ae"
            ],
            [
             0.3,
             "#f1b6da"
            ],
            [
             0.4,
             "#fde0ef"
            ],
            [
             0.5,
             "#f7f7f7"
            ],
            [
             0.6,
             "#e6f5d0"
            ],
            [
             0.7,
             "#b8e186"
            ],
            [
             0.8,
             "#7fbc41"
            ],
            [
             0.9,
             "#4d9221"
            ],
            [
             1,
             "#276419"
            ]
           ],
           "sequential": [
            [
             0,
             "#0d0887"
            ],
            [
             0.1111111111111111,
             "#46039f"
            ],
            [
             0.2222222222222222,
             "#7201a8"
            ],
            [
             0.3333333333333333,
             "#9c179e"
            ],
            [
             0.4444444444444444,
             "#bd3786"
            ],
            [
             0.5555555555555556,
             "#d8576b"
            ],
            [
             0.6666666666666666,
             "#ed7953"
            ],
            [
             0.7777777777777778,
             "#fb9f3a"
            ],
            [
             0.8888888888888888,
             "#fdca26"
            ],
            [
             1,
             "#f0f921"
            ]
           ],
           "sequentialminus": [
            [
             0,
             "#0d0887"
            ],
            [
             0.1111111111111111,
             "#46039f"
            ],
            [
             0.2222222222222222,
             "#7201a8"
            ],
            [
             0.3333333333333333,
             "#9c179e"
            ],
            [
             0.4444444444444444,
             "#bd3786"
            ],
            [
             0.5555555555555556,
             "#d8576b"
            ],
            [
             0.6666666666666666,
             "#ed7953"
            ],
            [
             0.7777777777777778,
             "#fb9f3a"
            ],
            [
             0.8888888888888888,
             "#fdca26"
            ],
            [
             1,
             "#f0f921"
            ]
           ]
          },
          "colorway": [
           "#636efa",
           "#EF553B",
           "#00cc96",
           "#ab63fa",
           "#FFA15A",
           "#19d3f3",
           "#FF6692",
           "#B6E880",
           "#FF97FF",
           "#FECB52"
          ],
          "font": {
           "color": "#2a3f5f"
          },
          "geo": {
           "bgcolor": "white",
           "lakecolor": "white",
           "landcolor": "#E5ECF6",
           "showlakes": true,
           "showland": true,
           "subunitcolor": "white"
          },
          "hoverlabel": {
           "align": "left"
          },
          "hovermode": "closest",
          "mapbox": {
           "style": "light"
          },
          "paper_bgcolor": "white",
          "plot_bgcolor": "#E5ECF6",
          "polar": {
           "angularaxis": {
            "gridcolor": "white",
            "linecolor": "white",
            "ticks": ""
           },
           "bgcolor": "#E5ECF6",
           "radialaxis": {
            "gridcolor": "white",
            "linecolor": "white",
            "ticks": ""
           }
          },
          "scene": {
           "xaxis": {
            "backgroundcolor": "#E5ECF6",
            "gridcolor": "white",
            "gridwidth": 2,
            "linecolor": "white",
            "showbackground": true,
            "ticks": "",
            "zerolinecolor": "white"
           },
           "yaxis": {
            "backgroundcolor": "#E5ECF6",
            "gridcolor": "white",
            "gridwidth": 2,
            "linecolor": "white",
            "showbackground": true,
            "ticks": "",
            "zerolinecolor": "white"
           },
           "zaxis": {
            "backgroundcolor": "#E5ECF6",
            "gridcolor": "white",
            "gridwidth": 2,
            "linecolor": "white",
            "showbackground": true,
            "ticks": "",
            "zerolinecolor": "white"
           }
          },
          "shapedefaults": {
           "line": {
            "color": "#2a3f5f"
           }
          },
          "ternary": {
           "aaxis": {
            "gridcolor": "white",
            "linecolor": "white",
            "ticks": ""
           },
           "baxis": {
            "gridcolor": "white",
            "linecolor": "white",
            "ticks": ""
           },
           "bgcolor": "#E5ECF6",
           "caxis": {
            "gridcolor": "white",
            "linecolor": "white",
            "ticks": ""
           }
          },
          "title": {
           "x": 0.05
          },
          "xaxis": {
           "automargin": true,
           "gridcolor": "white",
           "linecolor": "white",
           "ticks": "",
           "title": {
            "standoff": 15
           },
           "zerolinecolor": "white",
           "zerolinewidth": 2
          },
          "yaxis": {
           "automargin": true,
           "gridcolor": "white",
           "linecolor": "white",
           "ticks": "",
           "title": {
            "standoff": 15
           },
           "zerolinecolor": "white",
           "zerolinewidth": 2
          }
         }
        },
        "title": {
         "text": "Box Plot of Equity NPV per Scenario"
        },
        "width": 800,
        "xaxis": {
         "anchor": "y",
         "categoryarray": [
          "DA 9.9MW Offtake",
          "DA+IM 9.9MW Offtake",
          "DA+IM+ID 9.9MW Offtake",
          "DA+IM+ID 7MW Offtake",
          "DA+IM+ID 8.5MW Offtake"
         ],
         "categoryorder": "array",
         "domain": [
          0,
          1
         ],
         "title": {
          "text": "Scenario"
         }
        },
        "yaxis": {
         "anchor": "x",
         "domain": [
          0,
          1
         ],
         "title": {
          "text": "NPV [Euro]"
         }
        }
       }
      }
     },
     "metadata": {},
     "output_type": "display_data"
    },
    {
     "name": "stderr",
     "output_type": "stream",
     "text": [
      "[MainProcess/INFO] column model dropped from analysis because it has only one category\n",
      "[MainProcess/INFO] 10 points remaining, containing 3 cases of interest\n",
      "[MainProcess/INFO] mean: 1.0, mass: 0.3, coverage: 1.0, density: 1.0 restricted_dimensions: 2\n"
     ]
    },
    {
     "name": "stdout",
     "output_type": "stream",
     "text": [
      "               Feature     Score\n",
      "0                 Case  0.323211\n",
      "1  gasprice_volatility  0.149170\n",
      "2     Contingency_OPEX  0.137583\n",
      "3    Contingency_CAPEX  0.116093\n",
      "4  gridcost_volatility  0.082571\n"
     ]
    },
    {
     "name": "stderr",
     "output_type": "stream",
     "text": [
      "C:\\Users\\AlisyaMustikaa\\AppData\\Local\\Temp\\ipykernel_2268\\3086051701.py:327: FutureWarning:\n",
      "\n",
      "\n",
      "\n",
      "Passing `palette` without assigning `hue` is deprecated and will be removed in v0.14.0. Assign the `x` variable to `hue` and set `legend=False` for the same effect.\n",
      "\n",
      "\n"
     ]
    },
    {
     "data": {
      "image/png": "[encoded data removed]",
      "text/plain": [
       "<Figure size 1400x700 with 2 Axes>"
      ]
     },
     "metadata": {},
     "output_type": "display_data"
    },
    {
     "data": {
      "image/png": "[encoded data removed]",
      "text/plain": [
       "<Figure size 1200x600 with 1 Axes>"
      ]
     },
     "metadata": {},
     "output_type": "display_data"
    }
   ],
   "source": [
    "model_file = \"250130 - Multi-Asset Financial Model Version 1.12B Kisuma (2024) - DUA.xlsx\"\n",
    "model_cases = \"DA 9.9MW Offtake\", \"DA+IM 9.9MW Offtake\", \"DA+IM+ID 9.9MW Offtake\", \"DA+IM+ID 7MW Offtake\", \"DA+IM+ID 8.5MW Offtake\"\n",
    "model_uncertainties = [\n",
    "        # CAPEX & OPEX parameters\n",
    "        RealParameter(\"Contingency_CAPEX\", -0.2, 0.2),\n",
    "        RealParameter(\"Contingency_OPEX\", -0.2, 0.2),\n",
    "        # RealParameter(\"Merchant_Revenue\", 150000, 350000),\n",
    "        # RealParameter(\"EnecoMRI\", 150000, 350000),\n",
    "        # RealParameter(\"Land_lease_RE\", 100000, 250000),\n",
    "        # RealParameter(\"Land_lease_zelf\", 300000, 600000),\n",
    "        # RealParameter(\"landlease\", 475000, 500000),\n",
    "        # RealParameter(\"Aandeelhouderschap\", 0.05, 0.25),\n",
    "        # CategoricalParameter(\"revenuesplitshare\", (\"0\",\"0.15\",\"0.2\")),\n",
    "        # CategoricalParameter(\"revenuesplitbound\", (\"27000000\",\"28000000\",\"29000000\", \"30000000\",\"31000000\",\"32000000\")),\n",
    "        # CategoricalParameter(\"Repayment_type_senior\", (\"Linear\", \"Balloon\")),\n",
    "        # RealParameter(\"Interest_rate_senior\", 0.04,0.05),\n",
    "        # RealParameter(\"Balloon_size_senior\", 0.05,0.15),\n",
    "        # RealParameter(\"Gearing\", 0.5, 0.8),\n",
    "        # RealParameter(\"Yearly_revenue_growth\", -0.02, 0.02),\n",
    "        RealParameter(\"gridcost_volatility\", -0.1,0.25),\n",
    "        RealParameter(\"gasprice_volatility\", -0.1, 0.2),\n",
    "        # RealParameter(\"ATR85_Coverage\", 0., 1)\n",
    "    ]\n",
    "\n",
    "kisuma_DUA = DUA(model_file, model_cases, model_uncertainties, n_simulations=2)"
   ]
  },
  {
   "cell_type": "code",
   "execution_count": null,
   "id": "37658960",
   "metadata": {},
   "outputs": [
    {
     "data": {
      "image/png": "[encoded data removed]",
      "text/plain": [
       "<Figure size 1700x500 with 1 Axes>"
      ]
     },
     "metadata": {},
     "output_type": "display_data"
    }
   ],
   "source": [
    "kisuma_DUA.conditional_analysis(boi=2)"
   ]
  },
  {
   "cell_type": "code",
   "execution_count": null,
   "id": "6e3cb08e",
   "metadata": {},
   "outputs": [
    {
     "name": "stderr",
     "output_type": "stream",
     "text": [
      "[MainProcess/INFO] performing 1 scenarios * 5 policies * 1 model(s) = 5 experiments\n",
      "  0%|                                                    | 0/5 [00:00<?, ?it/s][MainProcess/INFO] performing experiments sequentially\n",
      "100%|████████████████████████████████████████████| 5/5 [00:20<00:00,  4.13s/it]\n",
      "[MainProcess/INFO] experiments finished\n"
     ]
    },
    {
     "name": "stdout",
     "output_type": "stream",
     "text": [
      "Reshaped TIME to (5, 192)\n",
      "Reshaped Model_length to (5, 192)\n",
      "Reshaped Rolling_Equity_IRR to (5, 192)\n",
      "Reshaped Cumulative_cash_flow to (5, 192)\n",
      "Final dimensions of TIME: (5, 192)\n",
      "Final dimensions of Model_length: (5, 192)\n",
      "Final dimensions of MODELCHECK: (5,)\n",
      "Final dimensions of Merchant_revenue: (5,)\n",
      "Final dimensions of Subsidy: (5,)\n",
      "Final dimensions of Grid_costs: (5,)\n",
      "Final dimensions of Energy_tax: (5,)\n",
      "Final dimensions of Gas_tax: (5,)\n",
      "Final dimensions of EBITDA_Total: (5,)\n",
      "Final dimensions of Rolling_Equity_IRR: (5, 192)\n",
      "Final dimensions of Project_IRR_AfterTax: (5,)\n",
      "Final dimensions of Project_IRR_BeforeTax: (5,)\n",
      "Final dimensions of Equity_IRR: (5,)\n",
      "Final dimensions of WACC: (5,)\n",
      "Final dimensions of Equity_NPV: (5,)\n",
      "Final dimensions of CAPEX: (5,)\n",
      "Final dimensions of Cumulative_cash_flow: (5, 192)\n",
      "Final dimensions of Payback_period: (5,)\n"
     ]
    },
    {
     "data": {
      "image/png": "[encoded data removed]",
      "text/plain": [
       "<Figure size 1200x600 with 1 Axes>"
      ]
     },
     "metadata": {},
     "output_type": "display_data"
    },
    {
     "data": {
      "image/png": "[encoded data removed]",
      "text/plain": [
       "<Figure size 1250x600 with 1 Axes>"
      ]
     },
     "metadata": {},
     "output_type": "display_data"
    },
    {
     "data": {
      "image/png": "[encoded data removed]",
      "text/plain": [
       "<Figure size 1250x600 with 1 Axes>"
      ]
     },
     "metadata": {},
     "output_type": "display_data"
    },
    {
     "data": {
      "image/png": "[encoded data removed]",
      "text/plain": [
       "<Figure size 1250x600 with 1 Axes>"
      ]
     },
     "metadata": {},
     "output_type": "display_data"
    }
   ],
   "source": [
    "model_file = \"250130 - Multi-Asset Financial Model Version 1.12B Kisuma (2024) - DUA.xlsx\"\n",
    "model_cases = \"DA 9.9MW Offtake\", \"DA+IM 9.9MW Offtake\", \"DA+IM+ID 9.9MW Offtake\", \"DA+IM+ID 7MW Offtake\", \"DA+IM+ID 8.5MW Offtake\"\n",
    "model_start = '2027-11-01'\n",
    "model_length = 16*12\n",
    "\n",
    "kisuma = BuCa(model_file, model_cases, model_start, model_length)"
   ]
  }
 ],
 "metadata": {
  "kernelspec": {
   "display_name": "base",
   "language": "python",
   "name": "python3"
  },
  "language_info": {
   "codemirror_mode": {
    "name": "ipython",
    "version": 3
   },
   "file_extension": ".py",
   "mimetype": "text/x-python",
   "name": "python",
   "nbconvert_exporter": "python",
   "pygments_lexer": "ipython3",
   "version": "3.12.8"
  }
 },
 "nbformat": 4,
 "nbformat_minor": 5
}
